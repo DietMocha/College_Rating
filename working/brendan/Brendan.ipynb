{
 "cells": [
  {
   "cell_type": "code",
   "execution_count": 115,
   "metadata": {},
   "outputs": [],
   "source": [
    "import pandas as pd\n",
    "import numpy as np\n",
    "from sklearn.preprocessing import Imputer\n",
    "from sklearn.linear_model import LinearRegression\n",
    "import statsmodels.api as sm\n",
    "import matplotlib.pyplot as plt\n",
    "import seaborn as sns"
   ]
  },
  {
   "cell_type": "code",
   "execution_count": 116,
   "metadata": {},
   "outputs": [],
   "source": [
    "# Customize plotting theme\n",
    "custom_style = {'axes.axisbelow': True,\n",
    "                'axes.edgecolor': 'white',\n",
    "                'axes.facecolor': '#3C4053',\n",
    "                'axes.facecolor':'#3C4053',\n",
    "                'figure.facecolor':'#3C4053',\n",
    "                'axes.grid': True,\n",
    "                'axes.labelcolor': 'grey',\n",
    "                'axes.linewidth': 0,\n",
    "                'grid.color': 'grey',\n",
    "                'grid.linestyle': '-',\n",
    "                'image.cmap': 'Greys',\n",
    "                'legend.frameon': False,\n",
    "                'legend.numpoints': 1,\n",
    "                'legend.scatterpoints': 1,\n",
    "                'lines.solid_capstyle': 'round',\n",
    "                'pdf.fonttype': 42,\n",
    "                'text.color': 'white',\n",
    "                'xtick.color': 'white',\n",
    "                'xtick.direction': 'out',\n",
    "                'xtick.major.size': 0,\n",
    "                'xtick.minor.size': 0,\n",
    "                'ytick.color': 'white',\n",
    "                'ytick.direction': 'out',\n",
    "                'ytick.major.size': 0,\n",
    "                'ytick.minor.size': 0}\n",
    "\n",
    "sns.set(font_scale=1.7, style='darkgrid', rc=custom_style)"
   ]
  },
  {
   "cell_type": "code",
   "execution_count": 117,
   "metadata": {},
   "outputs": [],
   "source": [
    "scorecard = pd.read_csv('scorecard.csv')\n",
    "earnings = pd.read_csv('post-school-earning.csv')\n",
    "df =scorecard.merge(earnings, how='left', on=None, left_on=None, right_on=None,\n",
    "                    left_index=False, right_index=False)"
   ]
  },
  {
   "cell_type": "code",
   "execution_count": 118,
   "metadata": {},
   "outputs": [],
   "source": [
    "# Display more \n",
    "pd.options.display.max_rows = 7000"
   ]
  },
  {
   "cell_type": "code",
   "execution_count": 119,
   "metadata": {},
   "outputs": [],
   "source": [
    "# Data cleaning\n",
    "for col in df:\n",
    "    df[col]  = df[col].apply(lambda x: np.nan if x == 'PrivacySuppressed' else x)\n",
    "    try:\n",
    "        df[col]  = df[col].apply(lambda x: float(x.strip()))\n",
    "    except:\n",
    "        pass"
   ]
  },
  {
   "cell_type": "markdown",
   "metadata": {},
   "source": [
    "Number of students not working and not enrolled ... years after entry"
   ]
  },
  {
   "cell_type": "code",
   "execution_count": 120,
   "metadata": {},
   "outputs": [
    {
     "data": {
      "image/png": "[encoded data removed]",
      "text/plain": [
       "<matplotlib.figure.Figure at 0x7f6981ba3278>"
      ]
     },
     "metadata": {},
     "output_type": "display_data"
    }
   ],
   "source": [
    "# Fill missing values with median value for that column\n",
    "impute = Imputer(missing_values=\"NaN\", strategy=\"median\")\n",
    "\n",
    "# NWNE: Number of students not working and not enrolled ... years after entry\n",
    "cols = ['COUNT_NWNE_P6', 'COUNT_NWNE_P7', 'COUNT_NWNE_P8', 'COUNT_NWNE_P9', 'COUNT_NWNE_P10']\n",
    "for col in cols:\n",
    "    df[col] = impute.fit_transform(df[[col]])\n",
    "\n",
    "X = [6, 7, 8, 9, 10]    # Year\n",
    "y = []    # Total students not working\n",
    "for col in cols:\n",
    "    y.append(sum(df[col]))\n",
    "plt.plot(X, y);"
   ]
  },
  {
   "cell_type": "code",
   "execution_count": 121,
   "metadata": {},
   "outputs": [
    {
     "name": "stderr",
     "output_type": "stream",
     "text": [
      "/home/raven/anaconda3/lib/python3.6/site-packages/statsmodels/stats/stattools.py:72: ValueWarning: omni_normtest is not valid with less than 8 observations; 5 samples were given.\n",
      "  \"samples were given.\" % int(n), ValueWarning)\n"
     ]
    },
    {
     "data": {
      "text/html": [
       "<table class=\"simpletable\">\n",
       "<caption>OLS Regression Results</caption>\n",
       "<tr>\n",
       "  <th>Dep. Variable:</th>            <td>y</td>        <th>  R-squared:         </th> <td>   0.148</td>\n",
       "</tr>\n",
       "<tr>\n",
       "  <th>Model:</th>                   <td>OLS</td>       <th>  Adj. R-squared:    </th> <td>  -0.136</td>\n",
       "</tr>\n",
       "<tr>\n",
       "  <th>Method:</th>             <td>Least Squares</td>  <th>  F-statistic:       </th> <td>  0.5201</td>\n",
       "</tr>\n",
       "<tr>\n",
       "  <th>Date:</th>             <td>Sun, 18 Mar 2018</td> <th>  Prob (F-statistic):</th>  <td> 0.523</td> \n",
       "</tr>\n",
       "<tr>\n",
       "  <th>Time:</th>                 <td>14:33:14</td>     <th>  Log-Likelihood:    </th> <td> -73.309</td>\n",
       "</tr>\n",
       "<tr>\n",
       "  <th>No. Observations:</th>      <td>     5</td>      <th>  AIC:               </th> <td>   150.6</td>\n",
       "</tr>\n",
       "<tr>\n",
       "  <th>Df Residuals:</th>          <td>     3</td>      <th>  BIC:               </th> <td>   149.8</td>\n",
       "</tr>\n",
       "<tr>\n",
       "  <th>Df Model:</th>              <td>     1</td>      <th>                     </th>     <td> </td>   \n",
       "</tr>\n",
       "<tr>\n",
       "  <th>Covariance Type:</th>      <td>nonrobust</td>    <th>                     </th>     <td> </td>   \n",
       "</tr>\n",
       "</table>\n",
       "<table class=\"simpletable\">\n",
       "<tr>\n",
       "    <td></td>       <th>coef</th>     <th>std err</th>      <th>t</th>      <th>P>|t|</th>  <th>[0.025</th>    <th>0.975]</th>  \n",
       "</tr>\n",
       "<tr>\n",
       "  <th>const</th> <td>  3.67e+06</td> <td> 1.87e+06</td> <td>    1.962</td> <td> 0.145</td> <td>-2.28e+06</td> <td> 9.62e+06</td>\n",
       "</tr>\n",
       "<tr>\n",
       "  <th>x1</th>    <td>-1.661e+05</td> <td>  2.3e+05</td> <td>   -0.721</td> <td> 0.523</td> <td>-8.99e+05</td> <td> 5.67e+05</td>\n",
       "</tr>\n",
       "</table>\n",
       "<table class=\"simpletable\">\n",
       "<tr>\n",
       "  <th>Omnibus:</th>       <td>   nan</td> <th>  Durbin-Watson:     </th> <td>   2.927</td>\n",
       "</tr>\n",
       "<tr>\n",
       "  <th>Prob(Omnibus):</th> <td>   nan</td> <th>  Jarque-Bera (JB):  </th> <td>   0.703</td>\n",
       "</tr>\n",
       "<tr>\n",
       "  <th>Skew:</th>          <td>-0.283</td> <th>  Prob(JB):          </th> <td>   0.704</td>\n",
       "</tr>\n",
       "<tr>\n",
       "  <th>Kurtosis:</th>      <td> 1.253</td> <th>  Cond. No.          </th> <td>    47.4</td>\n",
       "</tr>\n",
       "</table>"
      ],
      "text/plain": [
       "<class 'statsmodels.iolib.summary.Summary'>\n",
       "\"\"\"\n",
       "                            OLS Regression Results                            \n",
       "==============================================================================\n",
       "Dep. Variable:                      y   R-squared:                       0.148\n",
       "Model:                            OLS   Adj. R-squared:                 -0.136\n",
       "Method:                 Least Squares   F-statistic:                    0.5201\n",
       "Date:                Sun, 18 Mar 2018   Prob (F-statistic):              0.523\n",
       "Time:                        14:33:14   Log-Likelihood:                -73.309\n",
       "No. Observations:                   5   AIC:                             150.6\n",
       "Df Residuals:                       3   BIC:                             149.8\n",
       "Df Model:                           1                                         \n",
       "Covariance Type:            nonrobust                                         \n",
       "==============================================================================\n",
       "                 coef    std err          t      P>|t|      [0.025      0.975]\n",
       "------------------------------------------------------------------------------\n",
       "const        3.67e+06   1.87e+06      1.962      0.145   -2.28e+06    9.62e+06\n",
       "x1         -1.661e+05    2.3e+05     -0.721      0.523   -8.99e+05    5.67e+05\n",
       "==============================================================================\n",
       "Omnibus:                          nan   Durbin-Watson:                   2.927\n",
       "Prob(Omnibus):                    nan   Jarque-Bera (JB):                0.703\n",
       "Skew:                          -0.283   Prob(JB):                        0.704\n",
       "Kurtosis:                       1.253   Cond. No.                         47.4\n",
       "==============================================================================\n",
       "\n",
       "Warnings:\n",
       "[1] Standard Errors assume that the covariance matrix of the errors is correctly specified.\n",
       "\"\"\""
      ]
     },
     "execution_count": 121,
     "metadata": {},
     "output_type": "execute_result"
    }
   ],
   "source": [
    "# Linear regression\n",
    "X = sm.add_constant(X)\n",
    "model = sm.OLS(y, X).fit()\n",
    "model.summary()"
   ]
  },
  {
   "cell_type": "code",
   "execution_count": null,
   "metadata": {},
   "outputs": [],
   "source": []
  },
  {
   "cell_type": "markdown",
   "metadata": {},
   "source": [
    "Number of students working and not enrolled ... years after entry"
   ]
  },
  {
   "cell_type": "code",
   "execution_count": 122,
   "metadata": {},
   "outputs": [
    {
     "data": {
      "image/png": "[encoded data removed]",
      "text/plain": [
       "<matplotlib.figure.Figure at 0x7f697f4df2b0>"
      ]
     },
     "metadata": {},
     "output_type": "display_data"
    }
   ],
   "source": [
    "# Fill missing values with median value for that column\n",
    "impute = Imputer(missing_values=\"NaN\", strategy=\"median\")\n",
    "\n",
    "# NWNE: Number of students working and not enrolled ... years after entry\n",
    "cols = ['COUNT_WNE_P6', 'COUNT_WNE_P7', 'COUNT_WNE_P8', 'COUNT_WNE_P9', 'COUNT_WNE_P10']\n",
    "for col in cols:\n",
    "    df[col] = impute.fit_transform(df[[col]])\n",
    "\n",
    "X = [6, 7, 8, 9, 10]    # Year\n",
    "y = []    # Total students not working\n",
    "for col in cols:\n",
    "    y.append(sum(df[col]))\n",
    "plt.plot(X, y);"
   ]
  },
  {
   "cell_type": "code",
   "execution_count": 123,
   "metadata": {},
   "outputs": [
    {
     "name": "stderr",
     "output_type": "stream",
     "text": [
      "/home/raven/anaconda3/lib/python3.6/site-packages/statsmodels/stats/stattools.py:72: ValueWarning: omni_normtest is not valid with less than 8 observations; 5 samples were given.\n",
      "  \"samples were given.\" % int(n), ValueWarning)\n"
     ]
    },
    {
     "data": {
      "text/html": [
       "<table class=\"simpletable\">\n",
       "<caption>OLS Regression Results</caption>\n",
       "<tr>\n",
       "  <th>Dep. Variable:</th>            <td>y</td>        <th>  R-squared:         </th> <td>   0.211</td>\n",
       "</tr>\n",
       "<tr>\n",
       "  <th>Model:</th>                   <td>OLS</td>       <th>  Adj. R-squared:    </th> <td>  -0.052</td>\n",
       "</tr>\n",
       "<tr>\n",
       "  <th>Method:</th>             <td>Least Squares</td>  <th>  F-statistic:       </th> <td>  0.8036</td>\n",
       "</tr>\n",
       "<tr>\n",
       "  <th>Date:</th>             <td>Sun, 18 Mar 2018</td> <th>  Prob (F-statistic):</th>  <td> 0.436</td> \n",
       "</tr>\n",
       "<tr>\n",
       "  <th>Time:</th>                 <td>14:33:17</td>     <th>  Log-Likelihood:    </th> <td> -80.504</td>\n",
       "</tr>\n",
       "<tr>\n",
       "  <th>No. Observations:</th>      <td>     5</td>      <th>  AIC:               </th> <td>   165.0</td>\n",
       "</tr>\n",
       "<tr>\n",
       "  <th>Df Residuals:</th>          <td>     3</td>      <th>  BIC:               </th> <td>   164.2</td>\n",
       "</tr>\n",
       "<tr>\n",
       "  <th>Df Model:</th>              <td>     1</td>      <th>                     </th>     <td> </td>   \n",
       "</tr>\n",
       "<tr>\n",
       "  <th>Covariance Type:</th>      <td>nonrobust</td>    <th>                     </th>     <td> </td>   \n",
       "</tr>\n",
       "</table>\n",
       "<table class=\"simpletable\">\n",
       "<tr>\n",
       "    <td></td>       <th>coef</th>     <th>std err</th>      <th>t</th>      <th>P>|t|</th>  <th>[0.025</th>    <th>0.975]</th>  \n",
       "</tr>\n",
       "<tr>\n",
       "  <th>const</th> <td> 1.947e+07</td> <td> 7.89e+06</td> <td>    2.468</td> <td> 0.090</td> <td>-5.63e+06</td> <td> 4.46e+07</td>\n",
       "</tr>\n",
       "<tr>\n",
       "  <th>x1</th>    <td>-8.704e+05</td> <td> 9.71e+05</td> <td>   -0.896</td> <td> 0.436</td> <td>-3.96e+06</td> <td> 2.22e+06</td>\n",
       "</tr>\n",
       "</table>\n",
       "<table class=\"simpletable\">\n",
       "<tr>\n",
       "  <th>Omnibus:</th>       <td>   nan</td> <th>  Durbin-Watson:     </th> <td>   2.957</td>\n",
       "</tr>\n",
       "<tr>\n",
       "  <th>Prob(Omnibus):</th> <td>   nan</td> <th>  Jarque-Bera (JB):  </th> <td>   0.733</td>\n",
       "</tr>\n",
       "<tr>\n",
       "  <th>Skew:</th>          <td>-0.287</td> <th>  Prob(JB):          </th> <td>   0.693</td>\n",
       "</tr>\n",
       "<tr>\n",
       "  <th>Kurtosis:</th>      <td> 1.214</td> <th>  Cond. No.          </th> <td>    47.4</td>\n",
       "</tr>\n",
       "</table>"
      ],
      "text/plain": [
       "<class 'statsmodels.iolib.summary.Summary'>\n",
       "\"\"\"\n",
       "                            OLS Regression Results                            \n",
       "==============================================================================\n",
       "Dep. Variable:                      y   R-squared:                       0.211\n",
       "Model:                            OLS   Adj. R-squared:                 -0.052\n",
       "Method:                 Least Squares   F-statistic:                    0.8036\n",
       "Date:                Sun, 18 Mar 2018   Prob (F-statistic):              0.436\n",
       "Time:                        14:33:17   Log-Likelihood:                -80.504\n",
       "No. Observations:                   5   AIC:                             165.0\n",
       "Df Residuals:                       3   BIC:                             164.2\n",
       "Df Model:                           1                                         \n",
       "Covariance Type:            nonrobust                                         \n",
       "==============================================================================\n",
       "                 coef    std err          t      P>|t|      [0.025      0.975]\n",
       "------------------------------------------------------------------------------\n",
       "const       1.947e+07   7.89e+06      2.468      0.090   -5.63e+06    4.46e+07\n",
       "x1         -8.704e+05   9.71e+05     -0.896      0.436   -3.96e+06    2.22e+06\n",
       "==============================================================================\n",
       "Omnibus:                          nan   Durbin-Watson:                   2.957\n",
       "Prob(Omnibus):                    nan   Jarque-Bera (JB):                0.733\n",
       "Skew:                          -0.287   Prob(JB):                        0.693\n",
       "Kurtosis:                       1.214   Cond. No.                         47.4\n",
       "==============================================================================\n",
       "\n",
       "Warnings:\n",
       "[1] Standard Errors assume that the covariance matrix of the errors is correctly specified.\n",
       "\"\"\""
      ]
     },
     "execution_count": 123,
     "metadata": {},
     "output_type": "execute_result"
    }
   ],
   "source": [
    "# Linear regression\n",
    "X = sm.add_constant(X)\n",
    "model = sm.OLS(y, X).fit()\n",
    "model.summary()"
   ]
  },
  {
   "cell_type": "code",
   "execution_count": null,
   "metadata": {},
   "outputs": [],
   "source": []
  },
  {
   "cell_type": "code",
   "execution_count": null,
   "metadata": {},
   "outputs": [],
   "source": []
  },
  {
   "cell_type": "code",
   "execution_count": null,
   "metadata": {},
   "outputs": [],
   "source": []
  },
  {
   "cell_type": "code",
   "execution_count": null,
   "metadata": {},
   "outputs": [],
   "source": []
  }
 ],
 "metadata": {
  "kernelspec": {
   "display_name": "Python 3",
   "language": "python",
   "name": "python3"
  },
  "language_info": {
   "codemirror_mode": {
    "name": "ipython",
    "version": 3
   },
   "file_extension": ".py",
   "mimetype": "text/x-python",
   "name": "python",
   "nbconvert_exporter": "python",
   "pygments_lexer": "ipython3",
   "version": "3.6.4"
  }
 },
 "nbformat": 4,
 "nbformat_minor": 2
}
